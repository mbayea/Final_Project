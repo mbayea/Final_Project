{
 "cells": [
  {
   "cell_type": "markdown",
   "id": "c8aab934",
   "metadata": {},
   "source": [
    "# Data Cookbook"
   ]
  },
  {
   "cell_type": "code",
   "execution_count": 16,
   "id": "e429be09",
   "metadata": {},
   "outputs": [],
   "source": [
    "#Importing packages\n",
    "\n",
    "import numpy as np\n",
    "import pandas as pd\n",
    "import matplotlib.pyplot as plt\n",
    "import seaborn as sns\n"
   ]
  },
  {
   "cell_type": "markdown",
   "id": "c3756693",
   "metadata": {},
   "source": [
    "The dataset documents police treatment of individuals arrested in Toronto for simple possession of small quantities of marijuana. The data is part of a larger data set featured in a series of articles in the Toronto Star newspaper.\n",
    "The sample used for the project was found on Kaggle (https://www.kaggle.com/datasets/utkarshx27/arrests-for-marijuana-possession?resource=download)"
   ]
  },
  {
   "cell_type": "code",
   "execution_count": 17,
   "id": "bf5b2747",
   "metadata": {},
   "outputs": [
    {
     "data": {
      "text/html": [
       "<div>\n",
       "<style scoped>\n",
       "    .dataframe tbody tr th:only-of-type {\n",
       "        vertical-align: middle;\n",
       "    }\n",
       "\n",
       "    .dataframe tbody tr th {\n",
       "        vertical-align: top;\n",
       "    }\n",
       "\n",
       "    .dataframe thead th {\n",
       "        text-align: right;\n",
       "    }\n",
       "</style>\n",
       "<table border=\"1\" class=\"dataframe\">\n",
       "  <thead>\n",
       "    <tr style=\"text-align: right;\">\n",
       "      <th></th>\n",
       "      <th>Unnamed: 0</th>\n",
       "      <th>released</th>\n",
       "      <th>colour</th>\n",
       "      <th>year</th>\n",
       "      <th>age</th>\n",
       "      <th>sex</th>\n",
       "      <th>employed</th>\n",
       "      <th>citizen</th>\n",
       "      <th>checks</th>\n",
       "    </tr>\n",
       "  </thead>\n",
       "  <tbody>\n",
       "    <tr>\n",
       "      <th>0</th>\n",
       "      <td>1</td>\n",
       "      <td>Yes</td>\n",
       "      <td>White</td>\n",
       "      <td>2002</td>\n",
       "      <td>21</td>\n",
       "      <td>Male</td>\n",
       "      <td>Yes</td>\n",
       "      <td>Yes</td>\n",
       "      <td>3</td>\n",
       "    </tr>\n",
       "    <tr>\n",
       "      <th>1</th>\n",
       "      <td>2</td>\n",
       "      <td>No</td>\n",
       "      <td>Black</td>\n",
       "      <td>1999</td>\n",
       "      <td>17</td>\n",
       "      <td>Male</td>\n",
       "      <td>Yes</td>\n",
       "      <td>Yes</td>\n",
       "      <td>3</td>\n",
       "    </tr>\n",
       "    <tr>\n",
       "      <th>2</th>\n",
       "      <td>3</td>\n",
       "      <td>Yes</td>\n",
       "      <td>White</td>\n",
       "      <td>2000</td>\n",
       "      <td>24</td>\n",
       "      <td>Male</td>\n",
       "      <td>Yes</td>\n",
       "      <td>Yes</td>\n",
       "      <td>3</td>\n",
       "    </tr>\n",
       "    <tr>\n",
       "      <th>3</th>\n",
       "      <td>4</td>\n",
       "      <td>No</td>\n",
       "      <td>Black</td>\n",
       "      <td>2000</td>\n",
       "      <td>46</td>\n",
       "      <td>Male</td>\n",
       "      <td>Yes</td>\n",
       "      <td>Yes</td>\n",
       "      <td>1</td>\n",
       "    </tr>\n",
       "    <tr>\n",
       "      <th>4</th>\n",
       "      <td>5</td>\n",
       "      <td>Yes</td>\n",
       "      <td>Black</td>\n",
       "      <td>1999</td>\n",
       "      <td>27</td>\n",
       "      <td>Female</td>\n",
       "      <td>Yes</td>\n",
       "      <td>Yes</td>\n",
       "      <td>1</td>\n",
       "    </tr>\n",
       "  </tbody>\n",
       "</table>\n",
       "</div>"
      ],
      "text/plain": [
       "   Unnamed: 0 released colour  year  age     sex employed citizen  checks\n",
       "0           1      Yes  White  2002   21    Male      Yes     Yes       3\n",
       "1           2       No  Black  1999   17    Male      Yes     Yes       3\n",
       "2           3      Yes  White  2000   24    Male      Yes     Yes       3\n",
       "3           4       No  Black  2000   46    Male      Yes     Yes       1\n",
       "4           5      Yes  Black  1999   27  Female      Yes     Yes       1"
      ]
     },
     "execution_count": 17,
     "metadata": {},
     "output_type": "execute_result"
    }
   ],
   "source": [
    "#Reading the dataset\n",
    "\n",
    "df=pd.read_csv('Arrests.csv')\n",
    "df.head()"
   ]
  },
  {
   "cell_type": "code",
   "execution_count": 18,
   "id": "6c262d17",
   "metadata": {},
   "outputs": [
    {
     "name": "stdout",
     "output_type": "stream",
     "text": [
      "<class 'pandas.core.frame.DataFrame'>\n",
      "RangeIndex: 5226 entries, 0 to 5225\n",
      "Data columns (total 9 columns):\n",
      " #   Column      Non-Null Count  Dtype \n",
      "---  ------      --------------  ----- \n",
      " 0   Unnamed: 0  5226 non-null   int64 \n",
      " 1   released    5226 non-null   object\n",
      " 2   colour      5226 non-null   object\n",
      " 3   year        5226 non-null   int64 \n",
      " 4   age         5226 non-null   int64 \n",
      " 5   sex         5226 non-null   object\n",
      " 6   employed    5226 non-null   object\n",
      " 7   citizen     5226 non-null   object\n",
      " 8   checks      5226 non-null   int64 \n",
      "dtypes: int64(4), object(5)\n",
      "memory usage: 367.6+ KB\n"
     ]
    }
   ],
   "source": [
    "df.info()"
   ]
  },
  {
   "cell_type": "markdown",
   "id": "4aef5aed",
   "metadata": {},
   "source": [
    "# Recipe 1: Finding summaries such as mean, max, min\n"
   ]
  },
  {
   "cell_type": "code",
   "execution_count": 19,
   "id": "fd06bc1e",
   "metadata": {},
   "outputs": [
    {
     "data": {
      "text/plain": [
       "66"
      ]
     },
     "execution_count": 19,
     "metadata": {},
     "output_type": "execute_result"
    }
   ],
   "source": [
    "#Finding maximum age for all instances\n",
    "\n",
    "max_age = df['age'].max()\n",
    "max_age"
   ]
  },
  {
   "cell_type": "code",
   "execution_count": 20,
   "id": "5f9f3224",
   "metadata": {},
   "outputs": [
    {
     "data": {
      "text/plain": [
       "12"
      ]
     },
     "execution_count": 20,
     "metadata": {},
     "output_type": "execute_result"
    }
   ],
   "source": [
    "#Finding minimum age\n",
    "\n",
    "min_age = df['age'].min()\n",
    "min_age"
   ]
  },
  {
   "cell_type": "markdown",
   "id": "2f9e0917",
   "metadata": {},
   "source": [
    "# Recipe 2: Using group_by to find specific summaries\n",
    "\n",
    "Here, we use the groupby() method to group the dataframe by 'colour','sex' and 'year' and calculate the mean age for each group using the mean() method. "
   ]
  },
  {
   "cell_type": "code",
   "execution_count": 33,
   "id": "ecad91a8",
   "metadata": {},
   "outputs": [
    {
     "name": "stdout",
     "output_type": "stream",
     "text": [
      "colour\n",
      "Black    24.825311\n",
      "White    23.526409\n",
      "Name: age, dtype: float64\n"
     ]
    }
   ],
   "source": [
    "#Finding the mean age by race\n",
    "\n",
    "avg_age_race = df.groupby('colour')['age'].mean()\n",
    "\n",
    "print(avg_age_race)"
   ]
  },
  {
   "cell_type": "code",
   "execution_count": 32,
   "id": "b21257cd",
   "metadata": {},
   "outputs": [
    {
     "name": "stdout",
     "output_type": "stream",
     "text": [
      "sex\n",
      "Female    23.532731\n",
      "Male      23.875601\n",
      "Name: age, dtype: float64\n"
     ]
    }
   ],
   "source": [
    "#Finding the mean age by sex\n",
    "\n",
    "avg_age_sex= df.groupby('sex')['age'].mean()\n",
    "\n",
    "print(avg_age_sex)"
   ]
  },
  {
   "cell_type": "code",
   "execution_count": 31,
   "id": "8609c4fa",
   "metadata": {},
   "outputs": [
    {
     "name": "stdout",
     "output_type": "stream",
     "text": [
      "year\n",
      "1997    23.955285\n",
      "1998    23.676169\n",
      "1999    24.233849\n",
      "2000    23.475591\n",
      "2001    24.073493\n",
      "2002    23.364621\n",
      "Name: age, dtype: float64\n"
     ]
    }
   ],
   "source": [
    "#Finding the mean age by year\n",
    "\n",
    "avg_age_year = df.groupby('year')['age'].mean()\n",
    "\n",
    "print(avg_age_year)"
   ]
  },
  {
   "cell_type": "markdown",
   "id": "3044d05b",
   "metadata": {},
   "source": [
    "# Recipe 3: Adding a new column\n",
    "\n",
    "In this example, we add a new column to the dataframe called 'year_diff' that calculates the difference between 2018, which is the year cannibis became legal in Toronto and the 'year' column using the subtraction operator."
   ]
  },
  {
   "cell_type": "code",
   "execution_count": 24,
   "id": "aa10325c",
   "metadata": {},
   "outputs": [
    {
     "data": {
      "text/html": [
       "<div>\n",
       "<style scoped>\n",
       "    .dataframe tbody tr th:only-of-type {\n",
       "        vertical-align: middle;\n",
       "    }\n",
       "\n",
       "    .dataframe tbody tr th {\n",
       "        vertical-align: top;\n",
       "    }\n",
       "\n",
       "    .dataframe thead th {\n",
       "        text-align: right;\n",
       "    }\n",
       "</style>\n",
       "<table border=\"1\" class=\"dataframe\">\n",
       "  <thead>\n",
       "    <tr style=\"text-align: right;\">\n",
       "      <th></th>\n",
       "      <th>Unnamed: 0</th>\n",
       "      <th>released</th>\n",
       "      <th>colour</th>\n",
       "      <th>year</th>\n",
       "      <th>age</th>\n",
       "      <th>sex</th>\n",
       "      <th>employed</th>\n",
       "      <th>citizen</th>\n",
       "      <th>checks</th>\n",
       "      <th>year_diff</th>\n",
       "    </tr>\n",
       "  </thead>\n",
       "  <tbody>\n",
       "    <tr>\n",
       "      <th>0</th>\n",
       "      <td>1</td>\n",
       "      <td>Yes</td>\n",
       "      <td>White</td>\n",
       "      <td>2002</td>\n",
       "      <td>21</td>\n",
       "      <td>Male</td>\n",
       "      <td>Yes</td>\n",
       "      <td>Yes</td>\n",
       "      <td>3</td>\n",
       "      <td>16</td>\n",
       "    </tr>\n",
       "    <tr>\n",
       "      <th>1</th>\n",
       "      <td>2</td>\n",
       "      <td>No</td>\n",
       "      <td>Black</td>\n",
       "      <td>1999</td>\n",
       "      <td>17</td>\n",
       "      <td>Male</td>\n",
       "      <td>Yes</td>\n",
       "      <td>Yes</td>\n",
       "      <td>3</td>\n",
       "      <td>19</td>\n",
       "    </tr>\n",
       "    <tr>\n",
       "      <th>2</th>\n",
       "      <td>3</td>\n",
       "      <td>Yes</td>\n",
       "      <td>White</td>\n",
       "      <td>2000</td>\n",
       "      <td>24</td>\n",
       "      <td>Male</td>\n",
       "      <td>Yes</td>\n",
       "      <td>Yes</td>\n",
       "      <td>3</td>\n",
       "      <td>18</td>\n",
       "    </tr>\n",
       "    <tr>\n",
       "      <th>3</th>\n",
       "      <td>4</td>\n",
       "      <td>No</td>\n",
       "      <td>Black</td>\n",
       "      <td>2000</td>\n",
       "      <td>46</td>\n",
       "      <td>Male</td>\n",
       "      <td>Yes</td>\n",
       "      <td>Yes</td>\n",
       "      <td>1</td>\n",
       "      <td>18</td>\n",
       "    </tr>\n",
       "    <tr>\n",
       "      <th>4</th>\n",
       "      <td>5</td>\n",
       "      <td>Yes</td>\n",
       "      <td>Black</td>\n",
       "      <td>1999</td>\n",
       "      <td>27</td>\n",
       "      <td>Female</td>\n",
       "      <td>Yes</td>\n",
       "      <td>Yes</td>\n",
       "      <td>1</td>\n",
       "      <td>19</td>\n",
       "    </tr>\n",
       "  </tbody>\n",
       "</table>\n",
       "</div>"
      ],
      "text/plain": [
       "   Unnamed: 0 released colour  year  age     sex employed citizen  checks  \\\n",
       "0           1      Yes  White  2002   21    Male      Yes     Yes       3   \n",
       "1           2       No  Black  1999   17    Male      Yes     Yes       3   \n",
       "2           3      Yes  White  2000   24    Male      Yes     Yes       3   \n",
       "3           4       No  Black  2000   46    Male      Yes     Yes       1   \n",
       "4           5      Yes  Black  1999   27  Female      Yes     Yes       1   \n",
       "\n",
       "   year_diff  \n",
       "0         16  \n",
       "1         19  \n",
       "2         18  \n",
       "3         18  \n",
       "4         19  "
      ]
     },
     "execution_count": 24,
     "metadata": {},
     "output_type": "execute_result"
    }
   ],
   "source": [
    "#Adding a new column for the difference between 2018 and the 'year' column\n",
    "df['year_diff'] = 2018 - df['year']\n",
    "\n",
    "df.head()"
   ]
  },
  {
   "cell_type": "markdown",
   "id": "71a785e5",
   "metadata": {},
   "source": [
    "# Recipe 4: Using group_by and count\n",
    "\n",
    "We use the groupby() method to group the dataframe by 'year_diff' and then use the transform() method to count the number of instances for each group. We then assign the result to the new column 'year_diff_count'. "
   ]
  },
  {
   "cell_type": "code",
   "execution_count": 25,
   "id": "c65f7d72",
   "metadata": {},
   "outputs": [
    {
     "data": {
      "text/html": [
       "<div>\n",
       "<style scoped>\n",
       "    .dataframe tbody tr th:only-of-type {\n",
       "        vertical-align: middle;\n",
       "    }\n",
       "\n",
       "    .dataframe tbody tr th {\n",
       "        vertical-align: top;\n",
       "    }\n",
       "\n",
       "    .dataframe thead th {\n",
       "        text-align: right;\n",
       "    }\n",
       "</style>\n",
       "<table border=\"1\" class=\"dataframe\">\n",
       "  <thead>\n",
       "    <tr style=\"text-align: right;\">\n",
       "      <th></th>\n",
       "      <th>Unnamed: 0</th>\n",
       "      <th>released</th>\n",
       "      <th>colour</th>\n",
       "      <th>year</th>\n",
       "      <th>age</th>\n",
       "      <th>sex</th>\n",
       "      <th>employed</th>\n",
       "      <th>citizen</th>\n",
       "      <th>checks</th>\n",
       "      <th>year_diff</th>\n",
       "      <th>year_diff_count</th>\n",
       "    </tr>\n",
       "  </thead>\n",
       "  <tbody>\n",
       "    <tr>\n",
       "      <th>0</th>\n",
       "      <td>1</td>\n",
       "      <td>Yes</td>\n",
       "      <td>White</td>\n",
       "      <td>2002</td>\n",
       "      <td>21</td>\n",
       "      <td>Male</td>\n",
       "      <td>Yes</td>\n",
       "      <td>Yes</td>\n",
       "      <td>3</td>\n",
       "      <td>16</td>\n",
       "      <td>277</td>\n",
       "    </tr>\n",
       "    <tr>\n",
       "      <th>1</th>\n",
       "      <td>2</td>\n",
       "      <td>No</td>\n",
       "      <td>Black</td>\n",
       "      <td>1999</td>\n",
       "      <td>17</td>\n",
       "      <td>Male</td>\n",
       "      <td>Yes</td>\n",
       "      <td>Yes</td>\n",
       "      <td>3</td>\n",
       "      <td>19</td>\n",
       "      <td>1099</td>\n",
       "    </tr>\n",
       "    <tr>\n",
       "      <th>2</th>\n",
       "      <td>3</td>\n",
       "      <td>Yes</td>\n",
       "      <td>White</td>\n",
       "      <td>2000</td>\n",
       "      <td>24</td>\n",
       "      <td>Male</td>\n",
       "      <td>Yes</td>\n",
       "      <td>Yes</td>\n",
       "      <td>3</td>\n",
       "      <td>18</td>\n",
       "      <td>1270</td>\n",
       "    </tr>\n",
       "    <tr>\n",
       "      <th>3</th>\n",
       "      <td>4</td>\n",
       "      <td>No</td>\n",
       "      <td>Black</td>\n",
       "      <td>2000</td>\n",
       "      <td>46</td>\n",
       "      <td>Male</td>\n",
       "      <td>Yes</td>\n",
       "      <td>Yes</td>\n",
       "      <td>1</td>\n",
       "      <td>18</td>\n",
       "      <td>1270</td>\n",
       "    </tr>\n",
       "    <tr>\n",
       "      <th>4</th>\n",
       "      <td>5</td>\n",
       "      <td>Yes</td>\n",
       "      <td>Black</td>\n",
       "      <td>1999</td>\n",
       "      <td>27</td>\n",
       "      <td>Female</td>\n",
       "      <td>Yes</td>\n",
       "      <td>Yes</td>\n",
       "      <td>1</td>\n",
       "      <td>19</td>\n",
       "      <td>1099</td>\n",
       "    </tr>\n",
       "  </tbody>\n",
       "</table>\n",
       "</div>"
      ],
      "text/plain": [
       "   Unnamed: 0 released colour  year  age     sex employed citizen  checks  \\\n",
       "0           1      Yes  White  2002   21    Male      Yes     Yes       3   \n",
       "1           2       No  Black  1999   17    Male      Yes     Yes       3   \n",
       "2           3      Yes  White  2000   24    Male      Yes     Yes       3   \n",
       "3           4       No  Black  2000   46    Male      Yes     Yes       1   \n",
       "4           5      Yes  Black  1999   27  Female      Yes     Yes       1   \n",
       "\n",
       "   year_diff  year_diff_count  \n",
       "0         16              277  \n",
       "1         19             1099  \n",
       "2         18             1270  \n",
       "3         18             1270  \n",
       "4         19             1099  "
      ]
     },
     "execution_count": 25,
     "metadata": {},
     "output_type": "execute_result"
    }
   ],
   "source": [
    "\n",
    "df['year_diff_count'] = df.groupby('year_diff')['year_diff'].transform('count')\n",
    "df.head()"
   ]
  },
  {
   "cell_type": "markdown",
   "id": "704158d8",
   "metadata": {},
   "source": [
    "# Recipe 5: Using matplotlib to create vizualization \n",
    "\n",
    "First, we calculate the count of instances for each 'year_diff' using the value_counts() method on the 'year_diff' column. We then use the plt.bar() method to create a bar graph with 'year_diff' on the x-axis and 'year_diff_count' on the y-axis. We then add labels for the x and y axes as well as a title for the graph using the plt.xlabel(), plt.ylabel(), and plt.title() methods, respectively.\n",
    "\n",
    "Second, we first use the groupby() method to group the dataframe by 'colour' and then calculate the sum of 'checks' for each 'colour'. We then use the plt.bar() method to create a bar graph with 'colour' on the x-axis and 'checks_count' on the y-axis. We then add labels as described above.\n",
    "\n",
    "Using the same method, we create a bar graph for released status by race."
   ]
  },
  {
   "cell_type": "code",
   "execution_count": 26,
   "id": "9f8e3c26",
   "metadata": {},
   "outputs": [
    {
     "data": {
      "image/png": "[encoded data removed]",
      "text/plain": [
       "<Figure size 640x480 with 1 Axes>"
      ]
     },
     "metadata": {},
     "output_type": "display_data"
    }
   ],
   "source": [
    "# create a bar graph with year_diff on x-axis and count on y-axis\n",
    "plt.bar(df.year_diff, df.year_diff_count)\n",
    "plt.xlabel('year_diff')\n",
    "plt.ylabel('year_diff_count')\n",
    "plt.title('Count of Instances for Each year_diff')\n",
    "plt.show()"
   ]
  },
  {
   "cell_type": "code",
   "execution_count": 27,
   "id": "8ec6a56b",
   "metadata": {},
   "outputs": [
    {
     "data": {
      "image/png": "[encoded data removed]",
      "text/plain": [
       "<Figure size 640x480 with 1 Axes>"
      ]
     },
     "metadata": {},
     "output_type": "display_data"
    }
   ],
   "source": [
    "# calculate the count of checks for each colour\n",
    "checks_count = df.groupby('colour')['checks'].sum()\n",
    "\n",
    "# create a bar graph with colour on x-axis and checks_count on y-axis\n",
    "plt.bar(checks_count.index, checks_count.values)\n",
    "plt.xlabel('colour')\n",
    "plt.ylabel('checks_count')\n",
    "plt.title('Count of Checks for Each Colour')\n",
    "plt.show()"
   ]
  },
  {
   "cell_type": "code",
   "execution_count": 28,
   "id": "50a552c8",
   "metadata": {},
   "outputs": [
    {
     "data": {
      "image/png": "[encoded data removed]",
      "text/plain": [
       "<Figure size 640x480 with 1 Axes>"
      ]
     },
     "metadata": {},
     "output_type": "display_data"
    }
   ],
   "source": [
    "# calculate the count of released status for each colour\n",
    "released_count = df.groupby(['colour', 'released']).size().unstack()\n",
    "\n",
    "# create a stacked bar graph with colour on x-axis and released_count on y-axis\n",
    "released_count.plot(kind='bar', stacked=True)\n",
    "plt.xlabel('colour')\n",
    "plt.ylabel('count')\n",
    "plt.title('Released Status by Colour')\n",
    "plt.show()"
   ]
  },
  {
   "cell_type": "markdown",
   "id": "cff5b757",
   "metadata": {},
   "source": [
    "In the following chunk, we first group the dataframe by 'colour' and 'released' columns using the groupby() method, and then count the number of instances by 'colour' and 'released' using the size() method. We rename the resulting column to 'released_count' using the reset_index() method.\n",
    "\n",
    "Next, we group the resulting dataframe by 'colour' using the groupby() method, and calculate the total count for each color by summing the 'released_count' column using the sum() method. We then use the reset_index() method to create a new dataframe with two columns: 'colour' and 'total_count'.\n",
    "\n",
    "# Recipe 6: Merging dataframes \n",
    "\n",
    "We merge the two dataframes using the pd.merge() method and specifying which column we want to merge the data on, to create a new dataframe with three columns: 'colour', 'released_count', and 'total_count'.\n",
    "\n",
    "# Recipe 7: Standardizing a count \n",
    "\n",
    "Finally, we calculate the standardized count for each released status by dividing the 'released_count' column by the 'total_count' column, and store the result in a new 'standardized_count' column. This allows us to factor out the effect of the number of instances for each race in our count.  "
   ]
  },
  {
   "cell_type": "markdown",
   "id": "42ecdbe7",
   "metadata": {},
   "source": [
    "# Recipe 8: Creating a bar graph using Seaborn instead of matplotlib\n",
    "\n",
    "Lastly, we combine all of the above to recreate the bar graph of released status by race using seaborn this time. We use the sns.barplot() method to create a stacked bar chart with 'colour' on the x-axis and 'standardized_count' on the y-axis, using the 'released' column to distinguish between 'Yes' and 'No' values. We use the sns.set(), plt.xlabel(), plt.ylabel(), plt.title(), and plt.show() methods as before to set the style of the graph and add labels and a title."
   ]
  },
  {
   "cell_type": "code",
   "execution_count": 30,
   "id": "f1f00a03",
   "metadata": {},
   "outputs": [
    {
     "data": {
      "image/png": "[encoded data removed]",
      "text/plain": [
       "<Figure size 640x480 with 1 Axes>"
      ]
     },
     "metadata": {},
     "output_type": "display_data"
    }
   ],
   "source": [
    "# group the dataframe by colour and released status, and count the number of instances\n",
    "grouped = df.groupby(['colour', 'released']).size().reset_index(name='released_count')\n",
    "\n",
    "# calculate the total count for each color\n",
    "total_count = grouped.groupby('colour')['released_count'].sum().reset_index(name='total_count')\n",
    "\n",
    "# merge the grouped and total_count dataframes\n",
    "merged = pd.merge(grouped, total_count, on='colour')\n",
    "\n",
    "# calculate the standardized count for each released status by dividing released_count by total_count\n",
    "merged['standardized_count'] = merged['released_count'] / merged['total_count']\n",
    "\n",
    "# create a stacked bar chart with colour on the x-axis and standardized count on the y-axis\n",
    "sns.set(style=\"whitegrid\")\n",
    "sns.barplot(x='colour', y='standardized_count', hue='released', data=merged)\n",
    "plt.xlabel('Colour')\n",
    "plt.ylabel('Standardized Count')\n",
    "plt.title('Standardized Released Status by Colour')\n",
    "plt.show()"
   ]
  }
 ],
 "metadata": {
  "kernelspec": {
   "display_name": "Python 3 (ipykernel)",
   "language": "python",
   "name": "python3"
  },
  "language_info": {
   "codemirror_mode": {
    "name": "ipython",
    "version": 3
   },
   "file_extension": ".py",
   "mimetype": "text/x-python",
   "name": "python",
   "nbconvert_exporter": "python",
   "pygments_lexer": "ipython3",
   "version": "3.9.13"
  }
 },
 "nbformat": 4,
 "nbformat_minor": 5
}
